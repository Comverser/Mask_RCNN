{
 "cells": [
  {
   "cell_type": "markdown",
   "metadata": {
    "id": "qd2XjfAfKigQ"
   },
   "source": [
    "## Mask R-CNN - Inspect Trained Model\n",
    "\n",
    "Code and visualizations to test, debug, and evaluate the Mask R-CNN model."
   ]
  },
  {
   "cell_type": "code",
   "execution_count": null,
   "metadata": {},
   "outputs": [],
   "source": [
    "from datetime import date, datetime, timezone, timedelta\n",
    "\n",
    "exp_day = str(date.today())\n",
    "\n",
    "KST = timezone(timedelta(hours=9))\n",
    "time_record = datetime.now(KST)\n",
    "_day = str(time_record)[:10]\n",
    "_time = str(time_record.time())[:8]\n",
    "\n",
    "print(datetime.now(KST))"
   ]
  },
  {
   "cell_type": "code",
   "execution_count": null,
   "metadata": {
    "executionInfo": {
     "elapsed": 395,
     "status": "ok",
     "timestamp": 1642064009549,
     "user": {
      "displayName": "GNICT GNICT",
      "photoUrl": "https://lh3.googleusercontent.com/a/default-user=s64",
      "userId": "18438577818320315838"
     },
     "user_tz": -540
    },
    "id": "I8EKdIcJKigT"
   },
   "outputs": [],
   "source": [
    "import os\n",
    "import sys\n",
    "import numpy as np\n",
    "import tensorflow as tf\n",
    "import matplotlib\n",
    "import matplotlib.pyplot as plt\n",
    "import keras\n",
    "\n",
    "# Root directory of the project\n",
    "ROOT_DIR = os.path.abspath(\"../..\")\n",
    "\n",
    "# Import Mask RCNN\n",
    "sys.path.append(ROOT_DIR)  # To find local version of the library\n",
    "import utils\n",
    "import mrcnn.model as modellib\n",
    "import visualize\n",
    "from mrcnn.model import log\n",
    "\n",
    "%matplotlib inline \n",
    "\n",
    "import total_seg\n",
    "import total2_bbox\n",
    "\n",
    "# Directory to save logs and trained model\n",
    "MODEL_DIR = os.path.join(ROOT_DIR, \"logs\")\n",
    "\n",
    "SEG_MODEL_PATH = os.path.join(ROOT_DIR, \"mask_rcnn_seg.h5\")  # epoch 100\n",
    "BBOX_MODEL_PATH = os.path.join(ROOT_DIR, \"mask_rcnn_bbox.h5\")  # epoch 98"
   ]
  },
  {
   "cell_type": "markdown",
   "metadata": {
    "id": "EwhLBABXKigU"
   },
   "source": [
    "## Configurations"
   ]
  },
  {
   "cell_type": "code",
   "execution_count": null,
   "metadata": {
    "executionInfo": {
     "elapsed": 404,
     "status": "ok",
     "timestamp": 1642064012266,
     "user": {
      "displayName": "GNICT GNICT",
      "photoUrl": "https://lh3.googleusercontent.com/a/default-user=s64",
      "userId": "18438577818320315838"
     },
     "user_tz": -540
    },
    "id": "rqCXnXXsKigV"
   },
   "outputs": [],
   "source": [
    "class SInferenceConfig(total_seg.ParkConfig):\n",
    "    GPU_COUNT = 1\n",
    "    IMAGES_PER_GPU = 1\n",
    "    \n",
    "class BInferenceConfig(total2_bbox.ParkConfig):\n",
    "    GPU_COUNT = 1\n",
    "    IMAGES_PER_GPU = 1\n",
    "\n",
    "\n",
    "seg_config = SInferenceConfig()\n",
    "seg_config.display()\n",
    "\n",
    "bbox_config = BInferenceConfig()\n",
    "bbox_config.display()"
   ]
  },
  {
   "cell_type": "markdown",
   "metadata": {
    "id": "lcygQBFHKigV"
   },
   "source": [
    "## Notebook Preferences"
   ]
  },
  {
   "cell_type": "code",
   "execution_count": null,
   "metadata": {
    "executionInfo": {
     "elapsed": 392,
     "status": "ok",
     "timestamp": 1642064016129,
     "user": {
      "displayName": "GNICT GNICT",
      "photoUrl": "https://lh3.googleusercontent.com/a/default-user=s64",
      "userId": "18438577818320315838"
     },
     "user_tz": -540
    },
    "id": "D0hPsCocKigW"
   },
   "outputs": [],
   "source": [
    "DEVICE = \"/gpu:0\"  # /cpu:0 or /gpu:0\n",
    "TEST_MODE = \"inference\""
   ]
  },
  {
   "cell_type": "code",
   "execution_count": null,
   "metadata": {
    "executionInfo": {
     "elapsed": 1,
     "status": "ok",
     "timestamp": 1642064017737,
     "user": {
      "displayName": "GNICT GNICT",
      "photoUrl": "https://lh3.googleusercontent.com/a/default-user=s64",
      "userId": "18438577818320315838"
     },
     "user_tz": -540
    },
    "id": "wNUS9L-wKigW"
   },
   "outputs": [],
   "source": [
    "def get_ax(rows=1, cols=1, size=16):\n",
    "    _, ax = plt.subplots(rows, cols, figsize=(size*cols, size*rows))\n",
    "    return ax"
   ]
  },
  {
   "cell_type": "markdown",
   "metadata": {
    "id": "AtkizNphKigX"
   },
   "source": [
    "## Load Validation Dataset"
   ]
  },
  {
   "cell_type": "code",
   "execution_count": null,
   "metadata": {
    "colab": {
     "base_uri": "https://localhost:8080/"
    },
    "executionInfo": {
     "elapsed": 7665,
     "status": "ok",
     "timestamp": 1642064028541,
     "user": {
      "displayName": "GNICT GNICT",
      "photoUrl": "https://lh3.googleusercontent.com/a/default-user=s64",
      "userId": "18438577818320315838"
     },
     "user_tz": -540
    },
    "id": "kAp-aD-ZKigX",
    "outputId": "0165fe9d-4623-4d41-8bac-eaa512c56c24"
   },
   "outputs": [],
   "source": [
    "bbox_data_path = 'Dataset2d'\n",
    "\n",
    "# BBOX 모델 Load Validation Dataset\n",
    "bbox_dataset = total2_bbox.ParkDataset()\n",
    "bbox_dataset.load_park(bbox_data_path, \"test\")\n",
    "bbox_dataset.prepare()\n",
    "print(\"bbox_dataset Images: {}\\nClasses: {}\".format(len(bbox_dataset.image_ids), bbox_dataset.class_names))"
   ]
  },
  {
   "cell_type": "code",
   "execution_count": null,
   "metadata": {},
   "outputs": [],
   "source": [
    "seg_data_path = 'Dataset2dSeg'\n",
    "\n",
    "# SEG 모델 Load Validation Dataset\n",
    "seg_dataset = total_seg.ParkDataset()\n",
    "seg_dataset.load_park(seg_data_path, \"test\")\n",
    "seg_dataset.prepare()\n",
    "print(\"seg_dataset Images: {}\\nClasses: {}\".format(len(seg_dataset.image_ids), seg_dataset.class_names))"
   ]
  },
  {
   "cell_type": "markdown",
   "metadata": {
    "id": "c4kNkyHGKigY"
   },
   "source": [
    "## Load Model"
   ]
  },
  {
   "cell_type": "code",
   "execution_count": null,
   "metadata": {
    "colab": {
     "base_uri": "https://localhost:8080/"
    },
    "executionInfo": {
     "elapsed": 12285,
     "status": "ok",
     "timestamp": 1642064047946,
     "user": {
      "displayName": "GNICT GNICT",
      "photoUrl": "https://lh3.googleusercontent.com/a/default-user=s64",
      "userId": "18438577818320315838"
     },
     "user_tz": -540
    },
    "id": "amAZenabKigY",
    "outputId": "9c52d4ff-782f-4fc6-f789-90437cb4e0bb"
   },
   "outputs": [],
   "source": [
    "seg_model = modellib.MaskRCNN(mode=\"inference\", model_dir=SEG_MODEL_PATH, config=seg_config)\n",
    "bbox_model = modellib.MaskRCNN(mode=\"inference\", model_dir=BBOX_MODEL_PATH, config=bbox_config)\n",
    "\n",
    "print(\"Loading seg_weights \", SEG_MODEL_PATH)\n",
    "seg_model.load_weights(SEG_MODEL_PATH, by_name=True)\n",
    "\n",
    "print(\"Loading bbox_weights \", BBOX_MODEL_PATH)\n",
    "bbox_model.load_weights(BBOX_MODEL_PATH, by_name=True)"
   ]
  },
  {
   "cell_type": "code",
   "execution_count": null,
   "metadata": {},
   "outputs": [],
   "source": [
    "seg_class_names = [\"BG\", \"Parking Space\", \"Driveable Space\"]\n",
    "\n",
    "bbox_class_names = [\"BG\", \"Car\", \"Van\", \"Other Vehicle\", \"Motorbike\", \"Bicycle\", \"Electric Scooter\", \"Adult\", \"Child\", \"Stroller\", \"Shopping Cart\", \"Gate Arm\", \n",
    "               \"Parking Block\", \"Speed Bump\", \"Traffic Pole\", \"Traffic Cone\", \"Traffic Drum\", \"Traffic Barricade\", \"Cylindrical Bollard\", \"U-shaped Bollard\", \n",
    "               \"Other Road Barriers\", \"No Parking Stand\", \"Adjustable Parking Pole\", \"Waste Tire\", \"Planter Barrier\", \"Water Container\", \"Movable Obstacle\", \n",
    "               \"Barrier Gate\", \"Electric Car Charger\", \"Parking Meter\", \"Parking Sign\", \"Traffic Light\", \"Pedestrian Light\", \"Street Sign\", \"Disabled Parking Space\", \n",
    "               \"Pregnant Parking Space\", \"Electric Car Parking Space\", \"Two-wheeled Vehicle Parking Space\", \"Other Parking Space\"]"
   ]
  },
  {
   "cell_type": "markdown",
   "metadata": {
    "id": "SGAayAI-KigY"
   },
   "source": [
    "## Run Detection(SEG)"
   ]
  },
  {
   "cell_type": "code",
   "execution_count": null,
   "metadata": {
    "colab": {
     "base_uri": "https://localhost:8080/",
     "height": 1000
    },
    "executionInfo": {
     "elapsed": 8923,
     "status": "ok",
     "timestamp": 1642064060398,
     "user": {
      "displayName": "GNICT GNICT",
      "photoUrl": "https://lh3.googleusercontent.com/a/default-user=s64",
      "userId": "18438577818320315838"
     },
     "user_tz": -540
    },
    "id": "wfNcyAHLKigY",
    "outputId": "8fcf4f2b-3647-41a8-ad5a-c12df84ba7ff"
   },
   "outputs": [],
   "source": [
    "# SEG 모델\n",
    "import random\n",
    "image_id = random.choice(seg_dataset.image_ids)\n",
    "image, image_meta, gt_class_id, gt_bbox, gt_mask =\\\n",
    "    modellib.load_image_gt(seg_dataset, seg_config, image_id, use_mini_mask=False)\n",
    "info = seg_dataset.image_info[image_id]\n",
    "print(\"image ID: {}.{} ({}) {}\".format(info[\"source\"], info[\"id\"], image_id, \n",
    "                                       seg_dataset.image_reference(image_id)))\n",
    "\n",
    "results = seg_model.detect([image], verbose=1)\n",
    "\n",
    "# 결과 보기\n",
    "ax = get_ax(1)\n",
    "r = results[0]\n",
    "visualize.display_instances_seg(image, r['rois'], r['masks'], r['class_ids'], \n",
    "                            seg_class_names, r['scores'], ax=ax,\n",
    "                            title=\"Predictions\")\n",
    "log(\"gt_class_id\", gt_class_id)\n",
    "log(\"gt_bbox\", gt_bbox)\n",
    "log(\"gt_mask\", gt_mask)"
   ]
  },
  {
   "cell_type": "markdown",
   "metadata": {
    "id": "4rKOnJyiKigZ"
   },
   "source": [
    "### Precision-Recall(SEG)"
   ]
  },
  {
   "cell_type": "code",
   "execution_count": null,
   "metadata": {
    "colab": {
     "base_uri": "https://localhost:8080/",
     "height": 281
    },
    "executionInfo": {
     "elapsed": 357,
     "status": "ok",
     "timestamp": 1637746270240,
     "user": {
      "displayName": "GNICT GNICT",
      "photoUrl": "https://lh3.googleusercontent.com/a/default-user=s64",
      "userId": "18438577818320315838"
     },
     "user_tz": -540
    },
    "id": "RwwBDoAoKigZ",
    "outputId": "54ba9bd0-1ee8-4bf7-fb09-a194c74c3557"
   },
   "outputs": [],
   "source": [
    "AP, precisions, recalls, overlaps,comp = utils.compute_ap_seg(gt_bbox, gt_class_id, gt_mask,\n",
    "                                          r['rois'], r['class_ids'], r['scores'], r['masks'])\n",
    "visualize.plot_precision_recall(AP, precisions, recalls)"
   ]
  },
  {
   "cell_type": "code",
   "execution_count": null,
   "metadata": {
    "colab": {
     "base_uri": "https://localhost:8080/",
     "height": 743
    },
    "executionInfo": {
     "elapsed": 1641,
     "status": "ok",
     "timestamp": 1637746325460,
     "user": {
      "displayName": "GNICT GNICT",
      "photoUrl": "https://lh3.googleusercontent.com/a/default-user=s64",
      "userId": "18438577818320315838"
     },
     "user_tz": -540
    },
    "id": "S1XY_y9xKigZ",
    "outputId": "5e893072-e4bc-4018-e3d5-bd9b1b380f1d"
   },
   "outputs": [],
   "source": [
    "# Grid of ground truth objects and their predictions\n",
    "visualize.plot_overlaps(gt_class_id, r['class_ids'], r['scores'],\n",
    "                        overlaps, seg_class_names)"
   ]
  },
  {
   "cell_type": "markdown",
   "metadata": {
    "id": "-vxD-IV9KigZ"
   },
   "source": [
    "## Run Detection(BBOX)"
   ]
  },
  {
   "cell_type": "code",
   "execution_count": null,
   "metadata": {
    "colab": {
     "base_uri": "https://localhost:8080/"
    },
    "executionInfo": {
     "elapsed": 4,
     "status": "ok",
     "timestamp": 1637747706989,
     "user": {
      "displayName": "GNICT GNICT",
      "photoUrl": "https://lh3.googleusercontent.com/a/default-user=s64",
      "userId": "18438577818320315838"
     },
     "user_tz": -540
    },
    "id": "pnS1eUNdKigZ",
    "outputId": "50d5fc33-4a3e-4997-ed1d-bff5d2de471b"
   },
   "outputs": [],
   "source": [
    "# BBOX 모델\n",
    "import random\n",
    "image_id = random.choice(bbox_dataset.image_ids)\n",
    "image, image_meta, gt_class_id, gt_bbox, gt_mask =\\\n",
    "    modellib.load_image_gt(bbox_dataset, bbox_config, image_id, use_mini_mask=False)\n",
    "info = bbox_dataset.image_info[image_id]\n",
    "print(\"image ID: {}.{} ({}) {}\".format(info[\"source\"], info[\"id\"], image_id, \n",
    "                                       bbox_dataset.image_reference(image_id)))\n",
    "# Run object detection\n",
    "results = bbox_model.detect([image], verbose=1)\n",
    "\n",
    "# Display results\n",
    "ax = get_ax(1)\n",
    "r = results[0]\n",
    "visualize.display_instances(image, r['rois'], r['masks'], r['class_ids'], \n",
    "                            bbox_class_names, r['scores'], ax=ax,\n",
    "                            title=\"Predictions\")\n",
    "log(\"gt_class_id\", gt_class_id)\n",
    "log(\"gt_bbox\", gt_bbox)\n",
    "log(\"gt_mask\", gt_mask)"
   ]
  },
  {
   "cell_type": "markdown",
   "metadata": {},
   "source": [
    "### Precision-Recall(BBOX)"
   ]
  },
  {
   "cell_type": "code",
   "execution_count": null,
   "metadata": {},
   "outputs": [],
   "source": [
    "# Draw precision-recall curve\n",
    "\n",
    "AP, precisions, recalls, overlaps,comp = utils.compute_ap(gt_bbox, gt_class_id, gt_mask,\n",
    "                                          r['rois'], r['class_ids'], r['scores'], r['masks'])\n",
    "visualize.plot_precision_recall(AP, precisions, recalls)"
   ]
  },
  {
   "cell_type": "code",
   "execution_count": null,
   "metadata": {},
   "outputs": [],
   "source": [
    "# Grid of ground truth objects and their predictions\n",
    "\n",
    "visualize.plot_overlaps(gt_class_id, r['class_ids'], r['scores'],\n",
    "                        overlaps, bbox_class_names)"
   ]
  },
  {
   "cell_type": "markdown",
   "metadata": {
    "id": "Vezc_BfWKigf"
   },
   "source": [
    "### Compute mAP @ IoU=50 on Batch of Images"
   ]
  },
  {
   "cell_type": "code",
   "execution_count": null,
   "metadata": {},
   "outputs": [],
   "source": [
    "name_dict_bbox ={\n",
    "                1 : \"Car\" ,\n",
    "                2 : \"Van\" ,\n",
    "                3 : \"Other Vehicle\" , \n",
    "                4 : \"Motorbike\" ,\n",
    "                5 : \"Bicycle\",\n",
    "                6 : \"Electric Scooter\",\n",
    "                7 : \"Adult\",\n",
    "                8 : \"Child\",\n",
    "                9 : \"Stroller\",\n",
    "                10 : \"Shopping Cart\" ,\n",
    "                11 : \"Gate Arm\",\n",
    "                12 : \"Parking Block\",\n",
    "                13 : \"Speed Bump\",\n",
    "                14 : \"Traffic Pole\",\n",
    "                15 : \"Traffic Cone\",\n",
    "                16 : \"Traffic Drum\",\n",
    "                17 : \"Traffic Barricade\",\n",
    "                18 : \"Cylindrical Bollard\",\n",
    "                19 : \"U-shaped Bollard\",\n",
    "                20 : \"Other Road Barriers\",\n",
    "                21 : \"No Parking Stand\", \n",
    "                22 : \"Adjustable Parking Pole\",\n",
    "                23 : \"Waste Tire\",\n",
    "                24 : \"Planter Barrier\",\n",
    "                25 : \"Water Container\",\n",
    "                26 : \"Movable Obstacle\",\n",
    "                27 : \"Barrier Gate\",\n",
    "                28 : \"Electric Car Charger\",\n",
    "                29 : \"Parking Meter\",\n",
    "                30 : \"Parking Sign\",\n",
    "                31 : \"Traffic Light\",\n",
    "                32 : \"Pedestrian Light\",\n",
    "                33 : \"Street Sign\",\n",
    "                34 : \"Disabled Parking Space\",\n",
    "                35 : \"Pregnant Parking Space\",\n",
    "                36 : \"Electric Car Parking Space\",\n",
    "                37 : \"Two-wheeled Vehicle Parking Space\",\n",
    "                38 : \"Other Parking Space\" ,\n",
    "                }\n",
    "name_dict_seg ={\n",
    "                1 : \"Parking Space\",\n",
    "                2 : \"Driveable Space\"\n",
    "                }"
   ]
  },
  {
   "cell_type": "code",
   "execution_count": null,
   "metadata": {},
   "outputs": [],
   "source": [
    "#SEG모델\n",
    "import csv\n",
    "\n",
    "image_ids = seg_dataset.image_ids\n",
    "APs = []\n",
    "\n",
    "with open('listiou_seg.csv', 'w', newline='') as f:\n",
    "    writer = csv.writer(f)\n",
    "    \n",
    "    for image_id in image_ids:\n",
    "        image, image_meta, gt_class_id, gt_bbox, gt_mask =\\\n",
    "            modellib.load_image_gt(seg_dataset, seg_config,\n",
    "                                   image_id, use_mini_mask=False)\n",
    "        molded_images = np.expand_dims(modellib.mold_image(image, seg_config), 0)\n",
    "        results = seg_model.detect([image], verbose=0)\n",
    "        r = results[0]\n",
    "        data_name = [seg_dataset.image_reference(image_id)]\n",
    "\n",
    "        AP, precisions, recalls, overlaps,comp =\\\n",
    "            utils.compute_ap(gt_bbox, gt_class_id, gt_mask,\n",
    "                             r[\"rois\"], r[\"class_ids\"], r[\"scores\"], r['masks'])\n",
    "        for c in comp :\n",
    "            c[0] = name_dict_seg[c[0]]\n",
    "            if len(c) >2:\n",
    "              c[1] = name_dict_seg[c[1]]\n",
    "            comp_n = data_name + c\n",
    "            writer.writerow(comp_n) \n",
    "        APs.append(AP)\n",
    "    \n",
    "print(\"mAP: \", np.mean(APs))"
   ]
  },
  {
   "cell_type": "code",
   "execution_count": null,
   "metadata": {},
   "outputs": [],
   "source": [
    "#BBOX모델\n",
    "import csv\n",
    "\n",
    "image_ids = bbox_dataset.image_ids\n",
    "APs = []\n",
    "\n",
    "with open('listiou_bbox.csv', 'w', newline='') as f:\n",
    "    writer = csv.writer(f)\n",
    "    \n",
    "    for image_id in image_ids:\n",
    "        image, image_meta, gt_class_id, gt_bbox, gt_mask =\\\n",
    "            modellib.load_image_gt(bbox_dataset, bbox_config,\n",
    "                                   image_id, use_mini_mask=False)\n",
    "        molded_images = np.expand_dims(modellib.mold_image(image, bbox_config), 0)\n",
    "        results = bbox_model.detect([image], verbose=0)\n",
    "        r = results[0]\n",
    "        data_name = [bbox_dataset.image_reference(image_id)]\n",
    "\n",
    "        AP, precisions, recalls, overlaps,comp =\\\n",
    "            utils.compute_ap(gt_bbox, gt_class_id, gt_mask,\n",
    "                             r[\"rois\"], r[\"class_ids\"], r[\"scores\"], r['masks'])\n",
    "        for c in comp :\n",
    "            c[0] = name_dict_bbox[c[0]]\n",
    "            if len(c) >2:\n",
    "              c[1] = name_dict_bbox[c[1]]\n",
    "            comp_n = data_name + c\n",
    "            writer.writerow(comp_n) \n",
    "        APs.append(AP)\n",
    "print(\"mAP @ IoU=50: \", np.mean(APs))"
   ]
  }
 ],
 "metadata": {
  "accelerator": "GPU",
  "colab": {
   "collapsed_sections": [
    "-vxD-IV9KigZ",
    "iU5sNfsAKiga",
    "KQfhvOeuKigb",
    "shd9TNMSKigc",
    "M2pxoJ6DKigc",
    "cHpIuO9_Kigd",
    "WWmnQ4BwKigd",
    "PMyQIoC-Kigd",
    "6hLQiVvAKige",
    "5WKUQVtAKige"
   ],
   "name": "total_inspect_model.ipynb",
   "provenance": []
  },
  "kernelspec": {
   "display_name": "Python 3",
   "language": "python",
   "name": "python3"
  },
  "language_info": {
   "codemirror_mode": {
    "name": "ipython",
    "version": 3
   },
   "file_extension": ".py",
   "mimetype": "text/x-python",
   "name": "python",
   "nbconvert_exporter": "python",
   "pygments_lexer": "ipython3",
   "version": "3.7.4"
  }
 },
 "nbformat": 4,
 "nbformat_minor": 4
}
